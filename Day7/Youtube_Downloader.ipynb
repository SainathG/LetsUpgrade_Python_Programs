{
 "cells": [
  {
   "cell_type": "markdown",
   "metadata": {},
   "source": [
    "# YouTube Video Downloader"
   ]
  },
  {
   "cell_type": "code",
   "execution_count": 1,
   "metadata": {},
   "outputs": [],
   "source": [
    "# Install pytube"
   ]
  },
  {
   "cell_type": "code",
   "execution_count": 2,
   "metadata": {},
   "outputs": [
    {
     "name": "stdout",
     "output_type": "stream",
     "text": [
      "Collecting pytube\n",
      "  Downloading pytube-10.0.0-py3-none-any.whl (40 kB)\n",
      "Requirement already satisfied: typing-extensions in c:\\users\\sainath\\anaconda3\\lib\\site-packages (from pytube) (3.7.4.3)\n",
      "Installing collected packages: pytube\n",
      "Successfully installed pytube-10.0.0\n"
     ]
    }
   ],
   "source": [
    "!pip install pytube"
   ]
  },
  {
   "cell_type": "code",
   "execution_count": 3,
   "metadata": {},
   "outputs": [],
   "source": [
    "from pytube import YouTube"
   ]
  },
  {
   "cell_type": "code",
   "execution_count": 4,
   "metadata": {},
   "outputs": [],
   "source": [
    "import os \n",
    "from tkinter import *"
   ]
  },
  {
   "cell_type": "code",
   "execution_count": 5,
   "metadata": {},
   "outputs": [],
   "source": [
    "root=Tk() \n",
    "root.geometry('600x200') \n",
    "root.title('Youtube Video Downloader') \n",
    "Label_1=Label(root,text=\"Paste The Youtube Link Here\", font=(\"bold\",20)) \n",
    "Label_1.place(x=120,y=20) \n",
    "mylink=StringVar() \n",
    "pastelink=Entry(root, width=60, textvariable=mylink) \n",
    "pastelink.place(x=140, y=80)\n",
    "\n",
    "#link=\"https://youtu.be/FHH6hIc2GyE\"\n",
    "\n",
    "def downloadVideo(): \n",
    "    x=str(mylink.get()) \n",
    "    ytvideo=YouTube(x).streams.filter(progressive=True, file_extension='mp4').order_by('resolution').desc().first() \n",
    "    \n",
    "    if not os.path.exists('C:\\Sainath'): \n",
    "        os.makedirs('C:\\Sainath')\n",
    "    \n",
    "    ytvideo.download('C:\\Sainath') \n",
    "Button(root,text=\"Download Video\", width=20, bg='green',fg=\"white\", command=downloadVideo).place(x=220, y=110) \n",
    "root.mainloop()"
   ]
  }
 ],
 "metadata": {
  "kernelspec": {
   "display_name": "Python 3",
   "language": "python",
   "name": "python3"
  },
  "language_info": {
   "codemirror_mode": {
    "name": "ipython",
    "version": 3
   },
   "file_extension": ".py",
   "mimetype": "text/x-python",
   "name": "python",
   "nbconvert_exporter": "python",
   "pygments_lexer": "ipython3",
   "version": "3.8.5"
  }
 },
 "nbformat": 4,
 "nbformat_minor": 4
}
